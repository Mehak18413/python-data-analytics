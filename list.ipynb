{
 "cells": [
  {
   "cell_type": "code",
   "execution_count": 1,
   "metadata": {},
   "outputs": [
    {
     "name": "stdout",
     "output_type": "stream",
     "text": [
      "['google', 'instagram', 'snapchat', 'safari', 'whatsapp', 'canva', 'swiggy', 'youtube', 'jiosavan', 'flipkart']\n"
     ]
    }
   ],
   "source": [
    "apps=['google','instagram','snapchat','safari','whatsapp','canva','swiggy','youtube','jiosavan','flipkart']\n",
    "print(apps)"
   ]
  },
  {
   "cell_type": "code",
   "execution_count": 5,
   "metadata": {},
   "outputs": [
    {
     "name": "stdout",
     "output_type": "stream",
     "text": [
      "canva\n",
      "swiggy\n",
      "youtube\n",
      "instagram\n"
     ]
    }
   ],
   "source": [
    "print(apps[5])\n",
    "print(apps[6])\n",
    "print(apps[-3])\n",
    "print(apps[-9])"
   ]
  },
  {
   "cell_type": "code",
   "execution_count": 15,
   "metadata": {},
   "outputs": [
    {
     "name": "stdout",
     "output_type": "stream",
     "text": [
      "['google', 'instagram', 'snapchat']\n",
      "['google', 'snapchat', 'whatsapp', 'swiggy', 'jiosavan']\n",
      "['google', 'instagram', 'snapchat', 'safari', 'whatsapp']\n",
      "['canva', 'swiggy', 'youtube', 'jiosavan', 'flipkart']\n",
      "['google', 'instagram', 'snapchat', 'safari', 'whatsapp', 'canva', 'swiggy', 'youtube', 'jiosavan', 'flipkart']\n",
      "['google', 'snapchat', 'whatsapp', 'swiggy', 'jiosavan']\n"
     ]
    }
   ],
   "source": [
    "print(apps[0:3])\n",
    "print(apps[0:10:2])\n",
    "print(apps[:5])\n",
    "print(apps[5:])\n",
    "print(apps[:])\n",
    "print(apps[::2])"
   ]
  },
  {
   "cell_type": "code",
   "execution_count": 16,
   "metadata": {},
   "outputs": [
    {
     "name": "stdout",
     "output_type": "stream",
     "text": [
      "['google', 'instagram', 'snapchat', 'safari', 'whatsapp', 'canva', 'swiggy', 'youtube', 'jiosavan', 'flipkart']\n"
     ]
    }
   ],
   "source": [
    "print(apps)"
   ]
  },
  {
   "cell_type": "code",
   "execution_count": 17,
   "metadata": {},
   "outputs": [
    {
     "name": "stdout",
     "output_type": "stream",
     "text": [
      "['google', 'instagram', 'snapchat', 'safari', 'whatsapp', 'canva', 'swiggy', 'youtube', 'jiosavan', 'flipkart', 'tinder']\n"
     ]
    }
   ],
   "source": [
    "apps.append('tinder')\n",
    "print(apps)"
   ]
  },
  {
   "cell_type": "code",
   "execution_count": 19,
   "metadata": {},
   "outputs": [
    {
     "name": "stdout",
     "output_type": "stream",
     "text": [
      "['google', 'instagram', 'snapchat', 'tinder', 'tinder', 'safari', 'whatsapp', 'canva', 'swiggy', 'youtube', 'jiosavan', 'flipkart', 'tinder']\n"
     ]
    }
   ],
   "source": [
    "apps.insert(3,'tinder')\n",
    "print(apps)"
   ]
  },
  {
   "cell_type": "code",
   "execution_count": 22,
   "metadata": {},
   "outputs": [
    {
     "name": "stdout",
     "output_type": "stream",
     "text": [
      "['google', 'instagram', 'snapchat', 'tinder', 'safari', 'whatsapp', 'swiggy', 'youtube', 'jiosavan', 'flipkart', 'tinder']\n"
     ]
    }
   ],
   "source": [
    "apps.pop(6)\n",
    "print(apps)"
   ]
  },
  {
   "cell_type": "code",
   "execution_count": 23,
   "metadata": {},
   "outputs": [
    {
     "name": "stdout",
     "output_type": "stream",
     "text": [
      "['flipkart', 'google', 'instagram', 'jiosavan', 'safari', 'snapchat', 'swiggy', 'tinder', 'tinder', 'whatsapp', 'youtube']\n"
     ]
    }
   ],
   "source": [
    "apps.sort()\n",
    "print(apps)"
   ]
  },
  {
   "cell_type": "code",
   "execution_count": 24,
   "metadata": {},
   "outputs": [
    {
     "name": "stdout",
     "output_type": "stream",
     "text": [
      "['flipkart', 'google', 'instagram', 'jiosavan', 'safari', 'snapchat', 'swiggy', 'tinder', 'tinder', 'whatsapp', 'youtube']\n"
     ]
    }
   ],
   "source": [
    "apps2 = apps.copy()\n",
    "print(apps2)"
   ]
  },
  {
   "cell_type": "code",
   "execution_count": 25,
   "metadata": {},
   "outputs": [
    {
     "name": "stdout",
     "output_type": "stream",
     "text": [
      "[]\n"
     ]
    }
   ],
   "source": [
    "apps.clear()\n",
    "print(apps)"
   ]
  },
  {
   "cell_type": "code",
   "execution_count": 26,
   "metadata": {},
   "outputs": [
    {
     "name": "stdout",
     "output_type": "stream",
     "text": [
      "['flipkart', 'google', 'instagram', 'jiosavan', 'safari', 'snapchat', 'swiggy', 'tinder', 'tinder', 'whatsapp', 'youtube', 'gpay', 'camera', 'maps']\n"
     ]
    }
   ],
   "source": [
    "apps3 = ['gpay','camera','maps']\n",
    "apps2.extend(apps3)\n",
    "print(apps2)"
   ]
  },
  {
   "cell_type": "code",
   "execution_count": 27,
   "metadata": {},
   "outputs": [
    {
     "name": "stdout",
     "output_type": "stream",
     "text": [
      "['flipkart', 'google', 'instagram', 'jiosavan', 'safari', 'snapchat', 'swiggy', 'tinder', 'tinder', 'whatsapp', 'youtube', 'gpay', 'camera', 'maps', 'flipkart', 'google', 'instagram', 'jiosavan', 'safari', 'snapchat', 'swiggy', 'tinder', 'tinder', 'whatsapp', 'youtube', 'gpay', 'camera', 'maps']\n"
     ]
    }
   ],
   "source": [
    "apps3 = ['gpay','camera','maps']\n",
    "apps2.extend(apps2)\n",
    "print(apps2)\n",
    "\n"
   ]
  },
  {
   "cell_type": "code",
   "execution_count": 4,
   "metadata": {},
   "outputs": [
    {
     "name": "stdout",
     "output_type": "stream",
     "text": [
      "[4, 16, 36, 64, 100]\n"
     ]
    }
   ],
   "source": [
    "a=[2,4,6,8,10]\n",
    "lst=[]\n",
    "for i in a:\n",
    "    lst.append(i**2)\n",
    "print(lst)"
   ]
  },
  {
   "cell_type": "code",
   "execution_count": 5,
   "metadata": {},
   "outputs": [
    {
     "name": "stdout",
     "output_type": "stream",
     "text": [
      "[4, 16, 36, 64, 100]\n"
     ]
    }
   ],
   "source": [
    "num=[2,4,6,8,10]\n",
    "square = [i**2 for i in num]\n",
    "print(square)"
   ]
  },
  {
   "cell_type": "code",
   "execution_count": 6,
   "metadata": {},
   "outputs": [
    {
     "name": "stdout",
     "output_type": "stream",
     "text": [
      "[1, 27, 125, 343, 729]\n"
     ]
    }
   ],
   "source": [
    "num=[1,3,5,7,9]\n",
    "cube = [i**3 for i in num]\n",
    "print(cube)"
   ]
  },
  {
   "cell_type": "code",
   "execution_count": 8,
   "metadata": {},
   "outputs": [
    {
     "name": "stdout",
     "output_type": "stream",
     "text": [
      "[4, 8, 50, 10, 34, 54, 12]\n"
     ]
    }
   ],
   "source": [
    "x=[1,4,3,5,7,8,50,10,34,23,54,12]\n",
    "even_nums= [num for num in x if num % 2==0]\n",
    "print(even_nums)"
   ]
  },
  {
   "cell_type": "code",
   "execution_count": 20,
   "metadata": {},
   "outputs": [
    {
     "name": "stdout",
     "output_type": "stream",
     "text": [
      "['grapes', 'orange', 'banana']\n"
     ]
    }
   ],
   "source": [
    "fruits=['apple','mango','grapes','kiwi','strawberry','orange','banana','watermelon','melon','chiku']\n",
    "x=[i for i in fruits if len(i)==6]\n",
    "print(x)"
   ]
  },
  {
   "cell_type": "code",
   "execution_count": 16,
   "metadata": {},
   "outputs": [
    {
     "name": "stdout",
     "output_type": "stream",
     "text": [
      "['HELLO', 'MY', 'NAME', 'IS', 'MEHAK']\n"
     ]
    }
   ],
   "source": [
    "words = ['hello','my','name','is','mehak']\n",
    "lst = [i.upper() for i in words]\n",
    "print(lst)"
   ]
  },
  {
   "cell_type": "code",
   "execution_count": null,
   "metadata": {},
   "outputs": [],
   "source": []
  }
 ],
 "metadata": {
  "kernelspec": {
   "display_name": "base",
   "language": "python",
   "name": "python3"
  },
  "language_info": {
   "codemirror_mode": {
    "name": "ipython",
    "version": 3
   },
   "file_extension": ".py",
   "mimetype": "text/x-python",
   "name": "python",
   "nbconvert_exporter": "python",
   "pygments_lexer": "ipython3",
   "version": "3.10.8"
  }
 },
 "nbformat": 4,
 "nbformat_minor": 2
}
