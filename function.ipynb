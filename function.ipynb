{
 "cells": [
  {
   "cell_type": "markdown",
   "metadata": {},
   "source": [
    "# functions\n",
    "- predefined functions\n",
    "   - built in functions\n",
    "   *print(), input(), len(), type(), int(), sum()\n",
    "   - modules based functions\n",
    "     - local modules\n",
    "     * math \n",
    "     * datetime\n",
    "     * os\n",
    "     * turtle\n",
    "     * random\n",
    "- 3rd party modules\n",
    " - numpy\n",
    " - pandas\n",
    " - matplotlib\n",
    " - dputis\n",
    "- user defined functions\n",
    " - function with return values\n",
    " - non parameterized functions\n",
    " - parameterized functions\n",
    "  * variable args\n",
    "  * keyvalue variable args\n",
    "  * lambda\n",
    "  * map and filter\n"
   ]
  },
  {
   "cell_type": "markdown",
   "metadata": {},
   "source": [
    "MODULES BASED FUNCTIONS"
   ]
  },
  {
   "cell_type": "code",
   "execution_count": 10,
   "metadata": {},
   "outputs": [],
   "source": [
    "import math"
   ]
  },
  {
   "cell_type": "code",
   "execution_count": 11,
   "metadata": {},
   "outputs": [
    {
     "data": {
      "text/plain": [
       "3.141592653589793"
      ]
     },
     "execution_count": 11,
     "metadata": {},
     "output_type": "execute_result"
    }
   ],
   "source": [
    "math.pi"
   ]
  },
  {
   "cell_type": "code",
   "execution_count": 12,
   "metadata": {},
   "outputs": [
    {
     "data": {
      "text/plain": [
       "51090942171709440000"
      ]
     },
     "execution_count": 12,
     "metadata": {},
     "output_type": "execute_result"
    }
   ],
   "source": [
    "math.factorial(21)"
   ]
  },
  {
   "cell_type": "code",
   "execution_count": 13,
   "metadata": {},
   "outputs": [
    {
     "data": {
      "text/plain": [
       "-0.5440211108893698"
      ]
     },
     "execution_count": 13,
     "metadata": {},
     "output_type": "execute_result"
    }
   ],
   "source": [
    "math.sin(10)"
   ]
  },
  {
   "cell_type": "code",
   "execution_count": 14,
   "metadata": {},
   "outputs": [
    {
     "data": {
      "text/plain": [
       "3"
      ]
     },
     "execution_count": 14,
     "metadata": {},
     "output_type": "execute_result"
    }
   ],
   "source": [
    "math.floor(3.125895)"
   ]
  },
  {
   "cell_type": "code",
   "execution_count": 15,
   "metadata": {},
   "outputs": [
    {
     "data": {
      "text/plain": [
       "4"
      ]
     },
     "execution_count": 15,
     "metadata": {},
     "output_type": "execute_result"
    }
   ],
   "source": [
    "math.ceil(3.129)"
   ]
  },
  {
   "cell_type": "code",
   "execution_count": 16,
   "metadata": {},
   "outputs": [
    {
     "data": {
      "text/plain": [
       "2.695"
      ]
     },
     "execution_count": 16,
     "metadata": {},
     "output_type": "execute_result"
    }
   ],
   "source": [
    "math.fabs(2.695)"
   ]
  },
  {
   "cell_type": "code",
   "execution_count": 17,
   "metadata": {},
   "outputs": [],
   "source": [
    "from random import choice, randint "
   ]
  },
  {
   "cell_type": "code",
   "execution_count": 18,
   "metadata": {},
   "outputs": [
    {
     "name": "stdout",
     "output_type": "stream",
     "text": [
      "\u001b[1;31mSignature:\u001b[0m \u001b[0mchoice\u001b[0m\u001b[1;33m(\u001b[0m\u001b[0mseq\u001b[0m\u001b[1;33m)\u001b[0m\u001b[1;33m\u001b[0m\u001b[1;33m\u001b[0m\u001b[0m\n",
      "\u001b[1;31mDocstring:\u001b[0m Choose a random element from a non-empty sequence.\n",
      "\u001b[1;31mFile:\u001b[0m      c:\\conda\\lib\\random.py\n",
      "\u001b[1;31mType:\u001b[0m      method"
     ]
    }
   ],
   "source": [
    "choice?"
   ]
  },
  {
   "cell_type": "code",
   "execution_count": 19,
   "metadata": {},
   "outputs": [
    {
     "name": "stdout",
     "output_type": "stream",
     "text": [
      "['🐺', '🐷', '🦝', '🐵', '🐭', '🐻', '🐰']\n",
      "Your Emoji is:\n",
      "🐵\n"
     ]
    }
   ],
   "source": [
    "data =['🐺','🐷','🦝','🐵','🐭','🐻','🐰']\n",
    "print(data)\n",
    "print(\"Your Emoji is:\")\n",
    "print(choice(data))"
   ]
  },
  {
   "cell_type": "code",
   "execution_count": 20,
   "metadata": {},
   "outputs": [
    {
     "name": "stdout",
     "output_type": "stream",
     "text": [
      "6\n"
     ]
    }
   ],
   "source": [
    "print(randint(1,6))"
   ]
  },
  {
   "cell_type": "code",
   "execution_count": 21,
   "metadata": {},
   "outputs": [
    {
     "name": "stdout",
     "output_type": "stream",
     "text": [
      "🐰 🦝 🐻 🐭 🐵\n",
      "🐺 🦝 🐰 🐷 🐰 🦝\n"
     ]
    }
   ],
   "source": [
    "from random import sample, choices\n",
    "out= sample(data,5)\n",
    "print(*out) # * here is a trick to unpack the list\n",
    "out2= choices(data, k=6)\n",
    "print(*out2)"
   ]
  },
  {
   "cell_type": "code",
   "execution_count": 22,
   "metadata": {},
   "outputs": [],
   "source": [
    "from datetime import datetime "
   ]
  },
  {
   "cell_type": "code",
   "execution_count": 23,
   "metadata": {},
   "outputs": [
    {
     "name": "stdout",
     "output_type": "stream",
     "text": [
      "2024-07-27 12:20:09.180036\n"
     ]
    }
   ],
   "source": [
    "print(datetime.now())"
   ]
  },
  {
   "cell_type": "code",
   "execution_count": 24,
   "metadata": {},
   "outputs": [
    {
     "name": "stdout",
     "output_type": "stream",
     "text": [
      "2024-07-27\n",
      "2024-07-27\n",
      "2024-07-27 12:20:09.306038\n",
      "27/07/24\n"
     ]
    }
   ],
   "source": [
    "# date\n",
    "date= datetime.date(datetime.now())\n",
    "print(date)\n",
    "time = datetime.time(datetime.now())\n",
    "print(date)\n",
    "now= datetime.now()\n",
    "print(now)\n",
    "formatted = now.strftime(\"%d/%m/%y\")\n",
    "print(formatted)"
   ]
  },
  {
   "cell_type": "code",
   "execution_count": 25,
   "metadata": {},
   "outputs": [],
   "source": [
    "import os "
   ]
  },
  {
   "cell_type": "code",
   "execution_count": 26,
   "metadata": {},
   "outputs": [
    {
     "name": "stdout",
     "output_type": "stream",
     "text": [
      "current location\n",
      "c:\\Users\\win-10\\Documents\\python data analysis\n"
     ]
    }
   ],
   "source": [
    "print(\"current location\")\n",
    "print(os.getcwd())"
   ]
  },
  {
   "cell_type": "code",
   "execution_count": 27,
   "metadata": {},
   "outputs": [
    {
     "name": "stdout",
     "output_type": "stream",
     "text": [
      "list all files\n",
      "😀.git\n",
      "😀a\n",
      "😀basic.ipynb\n",
      "😀conditions.ipynb\n",
      "😀dictionary.ipynb\n",
      "😀function.ipynb\n",
      "😀list.ipynb\n",
      "😀loop.ipynb\n",
      "😀pattern1.py\n",
      "😀pattern2.py\n",
      "😀pattern3.py\n",
      "😀sets.ipynb\n",
      "😀string.ipynb\n"
     ]
    }
   ],
   "source": [
    "print('list all files')\n",
    "content =os.listdir()\n",
    "for item in content:\n",
    "    print(f\"😀{item}\")"
   ]
  },
  {
   "cell_type": "code",
   "execution_count": 28,
   "metadata": {},
   "outputs": [
    {
     "name": "stdout",
     "output_type": "stream",
     "text": [
      "❣Common Files\n",
      "❣desktop.ini\n",
      "❣Git\n",
      "❣Google\n",
      "❣Internet Explorer\n",
      "❣Microsoft Update Health Tools\n",
      "❣ModifiableWindowsApps\n",
      "❣MySQL\n",
      "❣nodejs\n",
      "❣PCHealthCheck\n",
      "❣RUXIM\n",
      "❣StarUML\n",
      "❣Uninstall Information\n",
      "❣Windows Defender\n",
      "❣Windows Defender Advanced Threat Protection\n",
      "❣Windows Mail\n",
      "❣Windows Media Player\n",
      "❣Windows Multimedia Platform\n",
      "❣Windows NT\n",
      "❣Windows Photo Viewer\n",
      "❣Windows Portable Devices\n",
      "❣Windows Security\n",
      "❣Windows Sidebar\n",
      "❣WindowsApps\n",
      "❣WindowsPowerShell\n"
     ]
    }
   ],
   "source": [
    "content= os.listdir(\"C:/Program Files\")\n",
    "for item in content:\n",
    "    print(f\"❣{item}\")"
   ]
  },
  {
   "cell_type": "code",
   "execution_count": 29,
   "metadata": {},
   "outputs": [
    {
     "name": "stdout",
     "output_type": "stream",
     "text": [
      "📂Common Files\n",
      "🈴desktop.ini\n",
      "📂Git\n",
      "📂Google\n",
      "📂Internet Explorer\n",
      "📂Microsoft Update Health Tools\n",
      "📂ModifiableWindowsApps\n",
      "📂MySQL\n",
      "📂nodejs\n",
      "📂PCHealthCheck\n",
      "📂RUXIM\n",
      "📂StarUML\n",
      "📂Uninstall Information\n",
      "📂Windows Defender\n",
      "📂Windows Defender Advanced Threat Protection\n",
      "📂Windows Mail\n",
      "📂Windows Media Player\n",
      "📂Windows Multimedia Platform\n",
      "📂Windows NT\n",
      "📂Windows Photo Viewer\n",
      "📂Windows Portable Devices\n",
      "📂Windows Security\n",
      "📂Windows Sidebar\n",
      "📂WindowsApps\n",
      "📂WindowsPowerShell\n"
     ]
    }
   ],
   "source": [
    "content = os.listdir(\"C:/Program Files\")\n",
    "for item in content:\n",
    "    path = f\"C:/Program Files/{item}\"\n",
    "    is_file =os.path.isfile(path)\n",
    "    if is_file:\n",
    "        print(f\"🈴{item}\")\n",
    "    else:\n",
    "        print(f\"📂{item}\")"
   ]
  },
  {
   "cell_type": "code",
   "execution_count": 30,
   "metadata": {},
   "outputs": [],
   "source": [
    "os.makedirs(\"a/b/c\",exist_ok= True)"
   ]
  },
  {
   "cell_type": "code",
   "execution_count": 31,
   "metadata": {},
   "outputs": [],
   "source": [
    "os.makedirs(\"C:/important/work\", exist_ok=True)\n"
   ]
  },
  {
   "cell_type": "markdown",
   "metadata": {},
   "source": [
    "# User Defined Functions\n",
    "### stage 1: define a function (create)\n",
    "''' python\n",
    "def Fun_name([params...]):\n"
   ]
  },
  {
   "cell_type": "code",
   "execution_count": 32,
   "metadata": {},
   "outputs": [],
   "source": [
    "def adder(a,b):\n",
    "    total =a+b\n",
    "    print(total)"
   ]
  },
  {
   "cell_type": "code",
   "execution_count": 33,
   "metadata": {},
   "outputs": [
    {
     "name": "stdout",
     "output_type": "stream",
     "text": [
      "22\n"
     ]
    }
   ],
   "source": [
    "adder(10,12)"
   ]
  },
  {
   "cell_type": "code",
   "execution_count": 34,
   "metadata": {},
   "outputs": [
    {
     "name": "stdout",
     "output_type": "stream",
     "text": [
      "2843\n"
     ]
    }
   ],
   "source": [
    "x= 1299\n",
    "y= 1544\n",
    "adder(x,y)"
   ]
  },
  {
   "cell_type": "code",
   "execution_count": 35,
   "metadata": {},
   "outputs": [],
   "source": [
    "def simple_intrest(p,r,t):\n",
    "    si=p*r**t/100\n",
    "    a=si+p\n",
    "    return si,a\n",
    "    "
   ]
  },
  {
   "cell_type": "code",
   "execution_count": 36,
   "metadata": {},
   "outputs": [
    {
     "data": {
      "text/plain": [
       "(34867844010.0, 34867845010.0)"
      ]
     },
     "execution_count": 36,
     "metadata": {},
     "output_type": "execute_result"
    }
   ],
   "source": [
    "p=1000\n",
    "r=9\n",
    "t=10\n",
    "simple_intrest(p,r,t)\n"
   ]
  },
  {
   "cell_type": "code",
   "execution_count": 39,
   "metadata": {},
   "outputs": [
    {
     "data": {
      "text/plain": [
       "2461.76"
      ]
     },
     "execution_count": 39,
     "metadata": {},
     "output_type": "execute_result"
    }
   ],
   "source": [
    "def area_of_sphere(r):\n",
    "    area=4*3.14*r*r\n",
    "    return(area)\n",
    "r=10\n",
    "area_of_sphere(r)\n",
    "r=14\n",
    "area_of_sphere(r)\n",
    "    "
   ]
  },
  {
   "cell_type": "code",
   "execution_count": 41,
   "metadata": {},
   "outputs": [
    {
     "name": "stdout",
     "output_type": "stream",
     "text": [
      "21\n",
      "None\n"
     ]
    }
   ],
   "source": [
    "ans= adder(15,6)\n",
    "print(ans)\n"
   ]
  },
  {
   "cell_type": "code",
   "execution_count": 42,
   "metadata": {},
   "outputs": [
    {
     "name": "stdout",
     "output_type": "stream",
     "text": [
      "4\n",
      "total words:8\n"
     ]
    }
   ],
   "source": [
    "#waf to count the number of words in a sentence\n",
    "def word_count(sentence):\n",
    "    words= sentence.split()\n",
    "    return len(words)\n",
    "sentence=\"I am a student\"\n",
    "print(word_count(sentence))\n",
    "sentence=\"this is a long sentence with many words,okay?\"\n",
    "size=word_count(sentence)\n",
    "print(f'total words:{size}')"
   ]
  },
  {
   "cell_type": "code",
   "execution_count": 1,
   "metadata": {},
   "outputs": [],
   "source": [
    "# required positional parameter\n",
    "def multiplier(a,b,c,d):\n",
    "    ans=a*b*c*d\n",
    "    return ans"
   ]
  },
  {
   "cell_type": "code",
   "execution_count": 4,
   "metadata": {},
   "outputs": [
    {
     "name": "stdout",
     "output_type": "stream",
     "text": [
      "24\n",
      "120\n",
      "18\n",
      "50\n"
     ]
    }
   ],
   "source": [
    "print(multiplier(1,2,3,4))\n",
    "print(multiplier(a=2,b=3,c=4,d=5))  #keyword argument\n",
    "print(multiplier(b=3,c=3,a=1,d=2))  #keyword argument in any order\n",
    "print(multiplier(1,2,d=5,c=5))      #mix of positional and keyword argument"
   ]
  },
  {
   "cell_type": "code",
   "execution_count": 5,
   "metadata": {},
   "outputs": [],
   "source": [
    "# default parameter\n",
    "def multiplier_v2(a,b,c,d=1):\n",
    "    ans=a*b*c*d\n",
    "    return ans"
   ]
  },
  {
   "cell_type": "code",
   "execution_count": 6,
   "metadata": {},
   "outputs": [
    {
     "name": "stdout",
     "output_type": "stream",
     "text": [
      "24\n",
      "6\n",
      "24\n"
     ]
    }
   ],
   "source": [
    "print(multiplier_v2(1,2,3,4))\n",
    "print(multiplier_v2(1,2,3))  # d is optional(default value=1)\n",
    "print(multiplier_v2(1,2,3,d=4))"
   ]
  },
  {
   "cell_type": "code",
   "execution_count": 12,
   "metadata": {},
   "outputs": [],
   "source": [
    "def multiplier_v3(a=1,b=1,c=1,d=1):\n",
    "    ans=a*b*c*d\n",
    "    return ans"
   ]
  },
  {
   "cell_type": "code",
   "execution_count": 13,
   "metadata": {},
   "outputs": [
    {
     "name": "stdout",
     "output_type": "stream",
     "text": [
      "1\n",
      "10\n",
      "10\n",
      "200\n",
      "200\n",
      "240000\n",
      "240000\n"
     ]
    }
   ],
   "source": [
    "print(multiplier_v3())\n",
    "print(multiplier_v3(10))  \n",
    "print(multiplier_v3(b=10))\n",
    "print(multiplier_v3(10,20))\n",
    "print(multiplier_v3(10,c=20))  \n",
    "print(multiplier_v3(10,20,30,40))\n",
    "print(multiplier_v3(10,20,d=30,c=40))"
   ]
  },
  {
   "cell_type": "code",
   "execution_count": 14,
   "metadata": {},
   "outputs": [
    {
     "data": {
      "text/plain": [
       "['hell', 'w w', 'rld']"
      ]
     },
     "execution_count": 14,
     "metadata": {},
     "output_type": "execute_result"
    }
   ],
   "source": [
    "\"hellow world\".split(sep='o')   #default parameter example in predefined function"
   ]
  },
  {
   "cell_type": "code",
   "execution_count": 15,
   "metadata": {},
   "outputs": [
    {
     "name": "stdout",
     "output_type": "stream",
     "text": [
      "\n",
      "1\n",
      "1 2 3\n",
      "1 2 3 4 5 6 7 8 9 0\n"
     ]
    }
   ],
   "source": [
    "#variable length argument\n",
    "print()\n",
    "print(1)\n",
    "print(1,2,3)\n",
    "print(1,2,3,4,5,6,7,8,9,0)\n"
   ]
  },
  {
   "cell_type": "code",
   "execution_count": 19,
   "metadata": {},
   "outputs": [],
   "source": [
    "def stats(*nums,action='means'):\n",
    "    if action == 'mean':\n",
    "        total ==sum(nums)\n",
    "        size=len(nums)\n",
    "        return total /size\n",
    "    elif action == 'sum':\n",
    "        return sum(nums)\n"
   ]
  },
  {
   "cell_type": "markdown",
   "metadata": {},
   "source": [
    "- only one parameter can be variable length parameter\n",
    "- only one parameter can be variable keyword parameter\n",
    "- default parameters should be at the end"
   ]
  },
  {
   "cell_type": "code",
   "execution_count": 24,
   "metadata": {},
   "outputs": [],
   "source": [
    "# variable length keyword argument\n",
    "def person(**details):\n",
    "    print(\"details of the person\")\n",
    "    for k,v in details.items():\n",
    "        print(f\"{k:20}|{v}\")"
   ]
  },
  {
   "cell_type": "code",
   "execution_count": 25,
   "metadata": {},
   "outputs": [
    {
     "name": "stdout",
     "output_type": "stream",
     "text": [
      "details of the person\n",
      "name                |rahul\n",
      "details of the person\n",
      "name                |vijay\n",
      "age                 |22\n",
      "city                |mumbai\n",
      "country             |india\n",
      "gender              |male\n",
      "details of the person\n",
      "name                |aditi\n",
      "age                 |20\n",
      "city                |kanpur\n",
      "job                 |engineer\n"
     ]
    }
   ],
   "source": [
    "person(name='rahul')\n",
    "person(name='vijay',age=22,city='mumbai',country='india',gender='male')\n",
    "person(name='aditi',age=20,city='kanpur',job='engineer')"
   ]
  },
  {
   "cell_type": "markdown",
   "metadata": {},
   "source": [
    "Lambda\n",
    "'''\n",
    "mathematical function:\n",
    "f(x) = x**2+1\n",
    "g(x,y)= x**2 + y**2 +1"
   ]
  },
  {
   "cell_type": "code",
   "execution_count": 26,
   "metadata": {},
   "outputs": [
    {
     "data": {
      "text/plain": [
       "<function __main__.<lambda>(x)>"
      ]
     },
     "execution_count": 26,
     "metadata": {},
     "output_type": "execute_result"
    }
   ],
   "source": [
    "f= lambda x: x**2+1\n",
    "f"
   ]
  },
  {
   "cell_type": "code",
   "execution_count": 27,
   "metadata": {},
   "outputs": [
    {
     "name": "stdout",
     "output_type": "stream",
     "text": [
      "101\n",
      "5\n",
      "10001\n"
     ]
    }
   ],
   "source": [
    "print(f(10))\n",
    "print(f(2))\n",
    "print(f(100))"
   ]
  },
  {
   "cell_type": "code",
   "execution_count": 28,
   "metadata": {},
   "outputs": [
    {
     "name": "stdout",
     "output_type": "stream",
     "text": [
      "14\n",
      "26\n"
     ]
    }
   ],
   "source": [
    "g=lambda x,y: x**2 + y**2 + 1\n",
    "print(g(2,3))\n",
    "print(g(3,4))"
   ]
  },
  {
   "cell_type": "code",
   "execution_count": 29,
   "metadata": {},
   "outputs": [
    {
     "data": {
      "text/plain": [
       "<map at 0x1a1d32e2020>"
      ]
     },
     "execution_count": 29,
     "metadata": {},
     "output_type": "execute_result"
    }
   ],
   "source": [
    "data=[1,2,3,4,5,6,7,8,9,10]\n",
    "f= lambda x: x**2 +1\n",
    "map(f,data)"
   ]
  },
  {
   "cell_type": "code",
   "execution_count": 30,
   "metadata": {},
   "outputs": [
    {
     "data": {
      "text/plain": [
       "(2, 5, 10, 17, 26, 37, 50, 65, 82, 101)"
      ]
     },
     "execution_count": 30,
     "metadata": {},
     "output_type": "execute_result"
    }
   ],
   "source": [
    "tuple(map(f,data))"
   ]
  },
  {
   "cell_type": "code",
   "execution_count": 33,
   "metadata": {},
   "outputs": [
    {
     "data": {
      "text/plain": [
       "[102, 405, 910, 1617, 2526, 3637, 4950, 6465, 8182, 222]"
      ]
     },
     "execution_count": 33,
     "metadata": {},
     "output_type": "execute_result"
    }
   ],
   "source": [
    "data1 =[1,2,3,4,5,6,7,8,9,10]\n",
    "data2 =[10,20,30,40,50,60,70,80,90,11]\n",
    "g=lambda x,y: x**2 + y**2 + 1\n",
    "list(map(g,data1,data2))"
   ]
  },
  {
   "cell_type": "code",
   "execution_count": null,
   "metadata": {},
   "outputs": [],
   "source": []
  }
 ],
 "metadata": {
  "kernelspec": {
   "display_name": "base",
   "language": "python",
   "name": "python3"
  },
  "language_info": {
   "codemirror_mode": {
    "name": "ipython",
    "version": 3
   },
   "file_extension": ".py",
   "mimetype": "text/x-python",
   "name": "python",
   "nbconvert_exporter": "python",
   "pygments_lexer": "ipython3",
   "version": "3.10.8"
  }
 },
 "nbformat": 4,
 "nbformat_minor": 2
}
