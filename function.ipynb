{
 "cells": [
  {
   "cell_type": "markdown",
   "metadata": {},
   "source": [
    "# functions\n",
    "- predefined functions\n",
    "   - built in functions\n",
    "   *print(), input(), len(), type(), int(), sum()\n",
    "   - modules based functions\n",
    "     - local modules\n",
    "     * math \n",
    "     * datetime\n",
    "     * os\n",
    "     * turtle\n",
    "     * random\n",
    "- 3rd party modules\n",
    " - numpy\n",
    " - pandas\n",
    " - matplotlib\n",
    " - dputis\n",
    "- user defined functions\n",
    " - function with return values\n",
    " - non parameterized functions\n",
    " - parameterized functions\n",
    "  * variable args\n",
    "  * keyvalue variable args\n",
    "  * lambda\n",
    "  * map and filter\n"
   ]
  },
  {
   "cell_type": "markdown",
   "metadata": {},
   "source": [
    "MODULES BASED FUNCTIONS"
   ]
  },
  {
   "cell_type": "code",
   "execution_count": 10,
   "metadata": {},
   "outputs": [],
   "source": [
    "import math"
   ]
  },
  {
   "cell_type": "code",
   "execution_count": 11,
   "metadata": {},
   "outputs": [
    {
     "data": {
      "text/plain": [
       "3.141592653589793"
      ]
     },
     "execution_count": 11,
     "metadata": {},
     "output_type": "execute_result"
    }
   ],
   "source": [
    "math.pi"
   ]
  },
  {
   "cell_type": "code",
   "execution_count": 12,
   "metadata": {},
   "outputs": [
    {
     "data": {
      "text/plain": [
       "51090942171709440000"
      ]
     },
     "execution_count": 12,
     "metadata": {},
     "output_type": "execute_result"
    }
   ],
   "source": [
    "math.factorial(21)"
   ]
  },
  {
   "cell_type": "code",
   "execution_count": 13,
   "metadata": {},
   "outputs": [
    {
     "data": {
      "text/plain": [
       "-0.5440211108893698"
      ]
     },
     "execution_count": 13,
     "metadata": {},
     "output_type": "execute_result"
    }
   ],
   "source": [
    "math.sin(10)"
   ]
  },
  {
   "cell_type": "code",
   "execution_count": 14,
   "metadata": {},
   "outputs": [
    {
     "data": {
      "text/plain": [
       "3"
      ]
     },
     "execution_count": 14,
     "metadata": {},
     "output_type": "execute_result"
    }
   ],
   "source": [
    "math.floor(3.125895)"
   ]
  },
  {
   "cell_type": "code",
   "execution_count": 15,
   "metadata": {},
   "outputs": [
    {
     "data": {
      "text/plain": [
       "4"
      ]
     },
     "execution_count": 15,
     "metadata": {},
     "output_type": "execute_result"
    }
   ],
   "source": [
    "math.ceil(3.129)"
   ]
  },
  {
   "cell_type": "code",
   "execution_count": 16,
   "metadata": {},
   "outputs": [
    {
     "data": {
      "text/plain": [
       "2.695"
      ]
     },
     "execution_count": 16,
     "metadata": {},
     "output_type": "execute_result"
    }
   ],
   "source": [
    "math.fabs(2.695)"
   ]
  },
  {
   "cell_type": "code",
   "execution_count": 17,
   "metadata": {},
   "outputs": [],
   "source": [
    "from random import choice, randint "
   ]
  },
  {
   "cell_type": "code",
   "execution_count": 18,
   "metadata": {},
   "outputs": [
    {
     "name": "stdout",
     "output_type": "stream",
     "text": [
      "\u001b[1;31mSignature:\u001b[0m \u001b[0mchoice\u001b[0m\u001b[1;33m(\u001b[0m\u001b[0mseq\u001b[0m\u001b[1;33m)\u001b[0m\u001b[1;33m\u001b[0m\u001b[1;33m\u001b[0m\u001b[0m\n",
      "\u001b[1;31mDocstring:\u001b[0m Choose a random element from a non-empty sequence.\n",
      "\u001b[1;31mFile:\u001b[0m      c:\\conda\\lib\\random.py\n",
      "\u001b[1;31mType:\u001b[0m      method"
     ]
    }
   ],
   "source": [
    "choice?"
   ]
  },
  {
   "cell_type": "code",
   "execution_count": 19,
   "metadata": {},
   "outputs": [
    {
     "name": "stdout",
     "output_type": "stream",
     "text": [
      "['🐺', '🐷', '🦝', '🐵', '🐭', '🐻', '🐰']\n",
      "Your Emoji is:\n",
      "🐵\n"
     ]
    }
   ],
   "source": [
    "data =['🐺','🐷','🦝','🐵','🐭','🐻','🐰']\n",
    "print(data)\n",
    "print(\"Your Emoji is:\")\n",
    "print(choice(data))"
   ]
  },
  {
   "cell_type": "code",
   "execution_count": 20,
   "metadata": {},
   "outputs": [
    {
     "name": "stdout",
     "output_type": "stream",
     "text": [
      "6\n"
     ]
    }
   ],
   "source": [
    "print(randint(1,6))"
   ]
  },
  {
   "cell_type": "code",
   "execution_count": 21,
   "metadata": {},
   "outputs": [
    {
     "name": "stdout",
     "output_type": "stream",
     "text": [
      "🐰 🦝 🐻 🐭 🐵\n",
      "🐺 🦝 🐰 🐷 🐰 🦝\n"
     ]
    }
   ],
   "source": [
    "from random import sample, choices\n",
    "out= sample(data,5)\n",
    "print(*out) # * here is a trick to unpack the list\n",
    "out2= choices(data, k=6)\n",
    "print(*out2)"
   ]
  },
  {
   "cell_type": "code",
   "execution_count": 22,
   "metadata": {},
   "outputs": [],
   "source": [
    "from datetime import datetime "
   ]
  },
  {
   "cell_type": "code",
   "execution_count": 23,
   "metadata": {},
   "outputs": [
    {
     "name": "stdout",
     "output_type": "stream",
     "text": [
      "2024-07-27 12:20:09.180036\n"
     ]
    }
   ],
   "source": [
    "print(datetime.now())"
   ]
  },
  {
   "cell_type": "code",
   "execution_count": 24,
   "metadata": {},
   "outputs": [
    {
     "name": "stdout",
     "output_type": "stream",
     "text": [
      "2024-07-27\n",
      "2024-07-27\n",
      "2024-07-27 12:20:09.306038\n",
      "27/07/24\n"
     ]
    }
   ],
   "source": [
    "# date\n",
    "date= datetime.date(datetime.now())\n",
    "print(date)\n",
    "time = datetime.time(datetime.now())\n",
    "print(date)\n",
    "now= datetime.now()\n",
    "print(now)\n",
    "formatted = now.strftime(\"%d/%m/%y\")\n",
    "print(formatted)"
   ]
  },
  {
   "cell_type": "code",
   "execution_count": 25,
   "metadata": {},
   "outputs": [],
   "source": [
    "import os "
   ]
  },
  {
   "cell_type": "code",
   "execution_count": 26,
   "metadata": {},
   "outputs": [
    {
     "name": "stdout",
     "output_type": "stream",
     "text": [
      "current location\n",
      "c:\\Users\\win-10\\Documents\\python data analysis\n"
     ]
    }
   ],
   "source": [
    "print(\"current location\")\n",
    "print(os.getcwd())"
   ]
  },
  {
   "cell_type": "code",
   "execution_count": 27,
   "metadata": {},
   "outputs": [
    {
     "name": "stdout",
     "output_type": "stream",
     "text": [
      "list all files\n",
      "😀.git\n",
      "😀a\n",
      "😀basic.ipynb\n",
      "😀conditions.ipynb\n",
      "😀dictionary.ipynb\n",
      "😀function.ipynb\n",
      "😀list.ipynb\n",
      "😀loop.ipynb\n",
      "😀pattern1.py\n",
      "😀pattern2.py\n",
      "😀pattern3.py\n",
      "😀sets.ipynb\n",
      "😀string.ipynb\n"
     ]
    }
   ],
   "source": [
    "print('list all files')\n",
    "content =os.listdir()\n",
    "for item in content:\n",
    "    print(f\"😀{item}\")"
   ]
  },
  {
   "cell_type": "code",
   "execution_count": 28,
   "metadata": {},
   "outputs": [
    {
     "name": "stdout",
     "output_type": "stream",
     "text": [
      "❣Common Files\n",
      "❣desktop.ini\n",
      "❣Git\n",
      "❣Google\n",
      "❣Internet Explorer\n",
      "❣Microsoft Update Health Tools\n",
      "❣ModifiableWindowsApps\n",
      "❣MySQL\n",
      "❣nodejs\n",
      "❣PCHealthCheck\n",
      "❣RUXIM\n",
      "❣StarUML\n",
      "❣Uninstall Information\n",
      "❣Windows Defender\n",
      "❣Windows Defender Advanced Threat Protection\n",
      "❣Windows Mail\n",
      "❣Windows Media Player\n",
      "❣Windows Multimedia Platform\n",
      "❣Windows NT\n",
      "❣Windows Photo Viewer\n",
      "❣Windows Portable Devices\n",
      "❣Windows Security\n",
      "❣Windows Sidebar\n",
      "❣WindowsApps\n",
      "❣WindowsPowerShell\n"
     ]
    }
   ],
   "source": [
    "content= os.listdir(\"C:/Program Files\")\n",
    "for item in content:\n",
    "    print(f\"❣{item}\")"
   ]
  },
  {
   "cell_type": "code",
   "execution_count": 29,
   "metadata": {},
   "outputs": [
    {
     "name": "stdout",
     "output_type": "stream",
     "text": [
      "📂Common Files\n",
      "🈴desktop.ini\n",
      "📂Git\n",
      "📂Google\n",
      "📂Internet Explorer\n",
      "📂Microsoft Update Health Tools\n",
      "📂ModifiableWindowsApps\n",
      "📂MySQL\n",
      "📂nodejs\n",
      "📂PCHealthCheck\n",
      "📂RUXIM\n",
      "📂StarUML\n",
      "📂Uninstall Information\n",
      "📂Windows Defender\n",
      "📂Windows Defender Advanced Threat Protection\n",
      "📂Windows Mail\n",
      "📂Windows Media Player\n",
      "📂Windows Multimedia Platform\n",
      "📂Windows NT\n",
      "📂Windows Photo Viewer\n",
      "📂Windows Portable Devices\n",
      "📂Windows Security\n",
      "📂Windows Sidebar\n",
      "📂WindowsApps\n",
      "📂WindowsPowerShell\n"
     ]
    }
   ],
   "source": [
    "content = os.listdir(\"C:/Program Files\")\n",
    "for item in content:\n",
    "    path = f\"C:/Program Files/{item}\"\n",
    "    is_file =os.path.isfile(path)\n",
    "    if is_file:\n",
    "        print(f\"🈴{item}\")\n",
    "    else:\n",
    "        print(f\"📂{item}\")"
   ]
  },
  {
   "cell_type": "code",
   "execution_count": 30,
   "metadata": {},
   "outputs": [],
   "source": [
    "os.makedirs(\"a/b/c\",exist_ok= True)"
   ]
  },
  {
   "cell_type": "code",
   "execution_count": 31,
   "metadata": {},
   "outputs": [],
   "source": [
    "os.makedirs(\"C:/important/work\", exist_ok=True)\n"
   ]
  },
  {
   "cell_type": "markdown",
   "metadata": {},
   "source": [
    "# User Defined Functions\n",
    "### stage 1: define a function (create)\n",
    "''' python\n",
    "def Fun_name([params...]):\n"
   ]
  },
  {
   "cell_type": "code",
   "execution_count": 32,
   "metadata": {},
   "outputs": [],
   "source": [
    "def adder(a,b):\n",
    "    total =a+b\n",
    "    print(total)"
   ]
  },
  {
   "cell_type": "code",
   "execution_count": 33,
   "metadata": {},
   "outputs": [
    {
     "name": "stdout",
     "output_type": "stream",
     "text": [
      "22\n"
     ]
    }
   ],
   "source": [
    "adder(10,12)"
   ]
  },
  {
   "cell_type": "code",
   "execution_count": 34,
   "metadata": {},
   "outputs": [
    {
     "name": "stdout",
     "output_type": "stream",
     "text": [
      "2843\n"
     ]
    }
   ],
   "source": [
    "x= 1299\n",
    "y= 1544\n",
    "adder(x,y)"
   ]
  },
  {
   "cell_type": "code",
   "execution_count": 35,
   "metadata": {},
   "outputs": [],
   "source": [
    "def simple_intrest(p,r,t):\n",
    "    si=p*r**t/100\n",
    "    a=si+p\n",
    "    return si,a\n",
    "    "
   ]
  },
  {
   "cell_type": "code",
   "execution_count": 36,
   "metadata": {},
   "outputs": [
    {
     "data": {
      "text/plain": [
       "(34867844010.0, 34867845010.0)"
      ]
     },
     "execution_count": 36,
     "metadata": {},
     "output_type": "execute_result"
    }
   ],
   "source": [
    "p=1000\n",
    "r=9\n",
    "t=10\n",
    "simple_intrest(p,r,t)\n"
   ]
  },
  {
   "cell_type": "code",
   "execution_count": 39,
   "metadata": {},
   "outputs": [
    {
     "data": {
      "text/plain": [
       "2461.76"
      ]
     },
     "execution_count": 39,
     "metadata": {},
     "output_type": "execute_result"
    }
   ],
   "source": [
    "def area_of_sphere(r):\n",
    "    area=4*3.14*r*r\n",
    "    return(area)\n",
    "r=10\n",
    "area_of_sphere(r)\n",
    "r=14\n",
    "area_of_sphere(r)\n",
    "    "
   ]
  },
  {
   "cell_type": "code",
   "execution_count": 41,
   "metadata": {},
   "outputs": [
    {
     "name": "stdout",
     "output_type": "stream",
     "text": [
      "21\n",
      "None\n"
     ]
    }
   ],
   "source": [
    "ans= adder(15,6)\n",
    "print(ans)\n"
   ]
  },
  {
   "cell_type": "code",
   "execution_count": 42,
   "metadata": {},
   "outputs": [
    {
     "name": "stdout",
     "output_type": "stream",
     "text": [
      "4\n",
      "total words:8\n"
     ]
    }
   ],
   "source": [
    "#waf to count the number of words in a sentence\n",
    "def word_count(sentence):\n",
    "    words= sentence.split()\n",
    "    return len(words)\n",
    "sentence=\"I am a student\"\n",
    "print(word_count(sentence))\n",
    "sentence=\"this is a long sentence with many words,okay?\"\n",
    "size=word_count(sentence)\n",
    "print(f'total words:{size}')"
   ]
  },
  {
   "cell_type": "code",
   "execution_count": null,
   "metadata": {},
   "outputs": [],
   "source": []
  }
 ],
 "metadata": {
  "kernelspec": {
   "display_name": "base",
   "language": "python",
   "name": "python3"
  },
  "language_info": {
   "codemirror_mode": {
    "name": "ipython",
    "version": 3
   },
   "file_extension": ".py",
   "mimetype": "text/x-python",
   "name": "python",
   "nbconvert_exporter": "python",
   "pygments_lexer": "ipython3",
   "version": "3.10.8"
  }
 },
 "nbformat": 4,
 "nbformat_minor": 2
}
