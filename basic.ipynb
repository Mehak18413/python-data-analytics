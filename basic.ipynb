{
 "cells": [
  {
   "cell_type": "code",
   "execution_count": 5,
   "metadata": {},
   "outputs": [
    {
     "data": {
      "text/plain": [
       "200"
      ]
     },
     "execution_count": 5,
     "metadata": {},
     "output_type": "execute_result"
    }
   ],
   "source": [
    "10*20"
   ]
  },
  {
   "cell_type": "code",
   "execution_count": 8,
   "metadata": {},
   "outputs": [],
   "source": [
    "a=10\n",
    "b=20\n",
    "name=\"mehak\"\n",
    "city=\"lucknow\"\n"
   ]
  },
  {
   "cell_type": "markdown",
   "metadata": {},
   "source": [
    " # operators\n",
    "- arithmetic\n",
    "- assignment\n",
    "- comparison\n",
    "- logical\n",
    "- membership\n",
    "- identity\n"
   ]
  },
  {
   "cell_type": "code",
   "execution_count": 6,
   "metadata": {},
   "outputs": [
    {
     "name": "stdout",
     "output_type": "stream",
     "text": [
      "13\n",
      "7\n",
      "30\n",
      "3.3333333333333335\n",
      "1\n",
      "3\n",
      "1000\n",
      "90\n",
      "10\n",
      "30\n"
     ]
    }
   ],
   "source": [
    "# + - * / % // **\n",
    "x=10 \n",
    "y=3\n",
    "print(x+y)\n",
    "print(x-y)\n",
    "print(x*y)\n",
    "print(x/y)\n",
    "print(x % y)\n",
    "print(x//y)\n",
    "print(x**y)\n",
    "# = += -= *= /= %= //= **=\n",
    "a=10\n",
    "b= a+20\n",
    "c=a+b\n",
    "c=c+30\n",
    "c +=30\n",
    "c -=10\n",
    "print(c)\n",
    "print(a)\n",
    "print(b)\n"
   ]
  },
  {
   "cell_type": "code",
   "execution_count": 7,
   "metadata": {},
   "outputs": [
    {
     "name": "stdout",
     "output_type": "stream",
     "text": [
      "False\n",
      "True\n",
      "False\n",
      "True\n",
      "True\n",
      "False\n",
      "False\n"
     ]
    }
   ],
   "source": [
    "print(a > b)\n",
    "print(a < b)\n",
    "print(a >= b)\n",
    "print(a <= b)\n",
    "print(a != b)\n",
    "print(a == b)\n",
    "print(a == b)"
   ]
  },
  {
   "cell_type": "code",
   "execution_count": 9,
   "metadata": {},
   "outputs": [
    {
     "name": "stdout",
     "output_type": "stream",
     "text": [
      "False\n",
      "True\n",
      "True\n",
      "True\n",
      "False\n",
      "True\n"
     ]
    }
   ],
   "source": [
    "print (a > b and a < b)\n",
    "print (a > b or a < b)\n",
    "print (a > 2 and a < b)\n",
    "print ( a > 2 or a < b)\n",
    "print (not a > 2)\n",
    "print (not(a > b and a < b))"
   ]
  },
  {
   "cell_type": "code",
   "execution_count": 10,
   "metadata": {},
   "outputs": [
    {
     "name": "stdout",
     "output_type": "stream",
     "text": [
      "False\n",
      "False\n",
      "True\n",
      "True\n",
      "True\n",
      "False\n"
     ]
    }
   ],
   "source": [
    "name = \"Alexis\"\n",
    "print(\"h\" in name)\n",
    "print(\"a\" in name)\n",
    "print(\"A\" in name)\n",
    "print(\"x\" in name)\n",
    "nums= [10,20,30,40,50]\n",
    "print(10 in nums)\n",
    "print(100 in nums)"
   ]
  },
  {
   "cell_type": "code",
   "execution_count": 11,
   "metadata": {},
   "outputs": [
    {
     "name": "stdout",
     "output_type": "stream",
     "text": [
      "10 20 200\n",
      "10 * 20 = 200\n",
      "name: Sara Age: 25 job: SDE 1\n",
      "name: Sara\n",
      "age: 25\n",
      "job: SDE 1\n",
      "3000.0\n",
      "simple intrest calculator\n",
      "🧡🧡🧡🧡🧡🧡🧡🧡🧡🧡\n",
      "principle=12000\n",
      "rate=2.5\n",
      "time=10\n",
      "❤❤❤❤❤❤❤❤❤❤\n"
     ]
    },
    {
     "ename": "NameError",
     "evalue": "name 's' is not defined",
     "output_type": "error",
     "traceback": [
      "\u001b[1;31m---------------------------------------------------------------------------\u001b[0m",
      "\u001b[1;31mNameError\u001b[0m                                 Traceback (most recent call last)",
      "Cell \u001b[1;32mIn[11], line 25\u001b[0m\n\u001b[0;32m     23\u001b[0m \u001b[38;5;28mprint\u001b[39m(\u001b[38;5;124mf\u001b[39m\u001b[38;5;124m'\u001b[39m\u001b[38;5;124mtime=\u001b[39m\u001b[38;5;132;01m{\u001b[39;00mt\u001b[38;5;132;01m}\u001b[39;00m\u001b[38;5;124m'\u001b[39m)\n\u001b[0;32m     24\u001b[0m \u001b[38;5;28mprint\u001b[39m(\u001b[38;5;124m\"\u001b[39m\u001b[38;5;124m❤\u001b[39m\u001b[38;5;124m\"\u001b[39m \u001b[38;5;241m*\u001b[39m\u001b[38;5;241m10\u001b[39m)\n\u001b[1;32m---> 25\u001b[0m \u001b[38;5;28mprint\u001b[39m(\u001b[38;5;124mf\u001b[39m\u001b[38;5;124m'\u001b[39m\u001b[38;5;124msimple intrest=\u001b[39m\u001b[38;5;132;01m{\u001b[39;00ms\u001b[38;5;132;01m}\u001b[39;00m\u001b[38;5;124m'\u001b[39m)\n",
      "\u001b[1;31mNameError\u001b[0m: name 's' is not defined"
     ]
    }
   ],
   "source": [
    "#is (identity operator )\n",
    "a= 10\n",
    "b= 20\n",
    "c=a*b\n",
    "print(a,b,c)\n",
    "print(a, \"*\",b,\"=\",c)\n",
    "name='Sara'\n",
    "age=25\n",
    "job=\"SDE 1\"\n",
    "print(\"name:\",name,\"Age:\",age,\"job:\",job )\n",
    "print(\"name:\",name)\n",
    "print(\"age:\",age)\n",
    "print(\"job:\",job)\n",
    "p=12000\n",
    "r=2.5\n",
    "t=10\n",
    "si=p*r*t/100\n",
    "print(p*r*t/100)\n",
    "print(\"simple intrest calculator\")\n",
    "print(\"🧡\"*10)\n",
    "print(f'principle={p}')\n",
    "print(f'rate={r}')\n",
    "print(f'time={t}')\n",
    "print(\"❤\" *10)\n",
    "print(f'simple intrest={s}')\n",
    "\n",
    "\n"
   ]
  },
  {
   "cell_type": "code",
   "execution_count": 14,
   "metadata": {},
   "outputs": [
    {
     "name": "stdout",
     "output_type": "stream",
     "text": [
      "simple intrest calculator\n",
      "------------------------------\n",
      "principle=           12.0k\n",
      "rate=                 2.5%\n",
      "time=                  10y\n",
      "------------------------------\n",
      "simple intrest=3000.0\n",
      "------------------------------\n"
     ]
    }
   ],
   "source": [
    "print(\"simple intrest calculator\")\n",
    "print(\"-\"*30)\n",
    "print(f'principle={p/1000:15}k')\n",
    "print(f'rate={r:20}%')\n",
    "print(f'time={t:20}y')\n",
    "print(\"-\" *30)\n",
    "print(f'simple intrest={si}')\n",
    "print(\"-\"*30)"
   ]
  },
  {
   "cell_type": "markdown",
   "metadata": {},
   "source": [
    "a=-10\n"
   ]
  },
  {
   "cell_type": "code",
   "execution_count": 16,
   "metadata": {},
   "outputs": [
    {
     "name": "stdout",
     "output_type": "stream",
     "text": [
      "pathaan\n",
      "you may like it but i dont care\n"
     ]
    }
   ],
   "source": [
    "fav_movie=input(\"plz enter your movie\")\n",
    "print(fav_movie)\n",
    "print(\"you may like it but i dont care\")"
   ]
  },
  {
   "cell_type": "code",
   "execution_count": 17,
   "metadata": {},
   "outputs": [
    {
     "name": "stdout",
     "output_type": "stream",
     "text": [
      "result is\n",
      "1212 12\n"
     ]
    }
   ],
   "source": [
    "a=input(\"enter a number\")\n",
    "b=input(\"enter another number\")\n",
    "print(\"result is\")\n",
    "print(int(a)+int(b))"
   ]
  },
  {
   "cell_type": "code",
   "execution_count": 3,
   "metadata": {},
   "outputs": [
    {
     "name": "stdout",
     "output_type": "stream",
     "text": [
      "area of spherer is 314.0\n"
     ]
    }
   ],
   "source": [
    "pi=3.14\n",
    "r=5\n",
    "area=4*pi*r**2\n",
    "print(\"area of spherer is\",area)\n",
    "\n",
    "\n",
    "\n",
    "\n",
    "\n",
    "\n",
    "\n"
   ]
  },
  {
   "cell_type": "code",
   "execution_count": null,
   "metadata": {},
   "outputs": [],
   "source": []
  }
 ],
 "metadata": {
  "kernelspec": {
   "display_name": "base",
   "language": "python",
   "name": "python3"
  },
  "language_info": {
   "codemirror_mode": {
    "name": "ipython",
    "version": 3
   },
   "file_extension": ".py",
   "mimetype": "text/x-python",
   "name": "python",
   "nbconvert_exporter": "python",
   "pygments_lexer": "ipython3",
   "version": "3.10.8"
  }
 },
 "nbformat": 4,
 "nbformat_minor": 2
}
